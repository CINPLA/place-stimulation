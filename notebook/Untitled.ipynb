{
 "cells": [
  {
   "cell_type": "code",
   "execution_count": 1,
   "metadata": {},
   "outputs": [],
   "source": [
    "%load_ext autoreload\n",
    "%autoreload 2"
   ]
  },
  {
   "cell_type": "code",
   "execution_count": 2,
   "metadata": {},
   "outputs": [],
   "source": [
    "import exdir\n",
    "import exdir.plugins.quantities\n",
    "import exdir.plugins.git_lfs\n",
    "import seaborn as sns\n",
    "import os\n",
    "import expipe\n",
    "import pathlib\n",
    "import numpy as np\n",
    "import place_stimulation as ps\n",
    "import neo\n",
    "import quantities as pq\n",
    "import matplotlib.pylab as plt"
   ]
  },
  {
   "cell_type": "code",
   "execution_count": 24,
   "metadata": {},
   "outputs": [],
   "source": [
    "import matplotlib.pylab as plt\n",
    "import spatialspikefields as tr\n",
    "from scipy.interpolate import interp1d\n",
    "import quantities as pq\n",
    "import numpy as np\n",
    "import seaborn as sns\n",
    "import matplotlib.gridspec as gridspec\n",
    "\n",
    "\n",
    "def plot_all_recordings(sptr,  data_path, color='b', lw=2, par=None, s=30, c=[0.7, 0.2, 0.2],\n",
    "                        select_tracking=None, fig=None, figsize=(20, 20),\n",
    "                        binsize = 0.02, smoothing = 0.03):\n",
    "    gs = gridspec.GridSpec(len(sptr), 4)\n",
    "    if len(sptr) == 0:\n",
    "        return \"No cells in this channel group\"\n",
    "\n",
    "    # creating axes for waveforms\n",
    "    gs_wf = gridspec.GridSpec(len(sptr), 2, subplot_spec=gs)\n",
    "    gs_wf.update(left=0.05, right=0.48)\n",
    "    axs_wf = []\n",
    "    axs_wf.append(plt.subplot(gs_wf[0, :], sharex=\"col\"))\n",
    "    for i in range(1, len(sptr)):\n",
    "        axs_wf.append(plt.subplot(gs_wf[1, :]))\n",
    "\n",
    "    for idx in range(len(sptr)):\n",
    "        wf = sptr[i].waveforms[:, i, :]\n",
    "        m = np.mean(wf, axis=0)\n",
    "        s_time = np.arange(m.size, dtype=np.float32) / sptr.sampling_rate\n",
    "        s_time.units = 'ms'\n",
    "        sd = np.std(wf, axis=0)\n",
    "        axs_wf[i].plot(s_time, m, color=color, lw=lw)\n",
    "        axs_wf[i].fill_between(s_time, m - sd, m + sd, alpha=.1, color=color)\n",
    "        #if sptr.left_sweep is not None:\n",
    "         #   sptr.left_sweep.units = 'ms'\n",
    "          #  axs[c].axvspan(sptr.left_sweep, sptr.left_sweep, color='k',\n",
    "           #                ls='--')\n",
    "        axs_wf[i].set_xlabel(s_time.dimensionality)\n",
    "        axs_wf[i].set_xlim([s_time.min(), s_time.max()])\n",
    "        if idx != 0:\n",
    "            plt.setp(axs_wf[idx].get_yticklabels(), visible=False)\n",
    "\n",
    "    # plotting path\n",
    "    if par is None:\n",
    "        par = {'speed_filter': 0.3,  # m/s\n",
    "               'pos_fs': 60,\n",
    "               'f_cut': 1,\n",
    "               'spat_binsize': 0.02,\n",
    "               'spat_smoothing': 0.025,\n",
    "               'grid_stepsize': 0.1,\n",
    "               'box_xlen': 1,\n",
    "               'box_ylen': 1,\n",
    "               'spike_size': 10,\n",
    "               'field_max_wall_extent': 0.1,\n",
    "               'field_min_bins': 12\n",
    "               }\n",
    "\n",
    "    # creating axes for path\n",
    "    x, y, t, speed = ps.load_tracking(data_path, par, select_tracking=1)\n",
    "    gs_p = gridspec.GridSpec(len(sptr), 1, subplot_spec=gs)\n",
    "    gs_p.update(left=0.55, right=0.98)\n",
    "    axs_p = [plt.subplot(gs_p[0, :], sharex=\"col\")]\n",
    "    for i in range(1, len(sptr)):\n",
    "        axs_p.append(plt.subplot(gs_p[i, :]))\n",
    "        axs_p[i].plot(x, y, 'k', alpha=0.3)\n",
    "\n",
    "    x_spikes = np.zeros(4)\n",
    "    y_spikes = np.zeros(4)\n",
    "    for i in range(4):\n",
    "        sptr_t = sptr[i][sptr[i].times.magnitude < np.max(t)]\n",
    "        sptr_t = sptr_t[sptr_t.times.magnitude > np.min(t)]\n",
    "        x_spikes[i] = interp1d(t, x)(sptr_t)\n",
    "        y_spikes[i] = interp1d(t, y)(sptr_t)\n",
    "\n",
    "    for ax, i in zip(axs_p, range(len(sptr))):\n",
    "        ax.scatter(x_spikes[i], y_spikes[i], s=s, c=c)\n",
    "\n",
    "    plt.xticks([])\n",
    "    plt.yticks([])\n",
    "\n",
    "    # plotting firing-rate maps\n",
    "    gs_fr = gridspec.GridSpec(len(sptr), 1)\n",
    "    gs_fr.update(left=1.05, right=1.48)\n",
    "    axs_fr = [plt.subplot(gs_p[0, :], sharex=\"col\")]\n",
    "    rate_map = tr.spatial_rate_map(x, y, t, sptr[0], binsize=binsize, box_xlen=1, box_ylen=1, smoothing=smoothing)\n",
    "    axs_fr[0].imshow(rate_map, origin=\"lower\")\n",
    "    for i in range(1, len(sptr)):\n",
    "        axs_fr.append(plt.subplot(gs_p[i, :]))\n",
    "        rate_map = tr.spatial_rate_map(x, y, t, sptr[i], binsize=binsize, box_xlen=1, box_ylen=1, smoothing=smoothing)\n",
    "        axs_fr[i].imshow(rate_map, origin=\"lower\")\n",
    "\n",
    "    plt.xticks([])\n",
    "    plt.yticks([])\n",
    "\n",
    "    plt.savefig(\"all-in-one-plot.png\")\n",
    "    \n",
    "    return plt.show()"
   ]
  },
  {
   "cell_type": "code",
   "execution_count": 25,
   "metadata": {},
   "outputs": [
    {
     "data": {
      "application/vnd.jupyter.widget-view+json": {
       "model_id": "5616c2fe6fb94efba343d638cc5ecee9",
       "version_major": 2,
       "version_minor": 0
      },
      "text/plain": [
       "HBox(children=(VBox(children=(Text(value='', placeholder='Search'), Select(layout=Layout(height='200px'), opti…"
      ]
     },
     "metadata": {},
     "output_type": "display_data"
    }
   ],
   "source": [
    "project_path = r'C:\\Users\\dejanam\\data\\test_pcstim'\n",
    "project = expipe.get_project(project_path)\n",
    "actions = project.actions\n",
    "actions"
   ]
  },
  {
   "cell_type": "code",
   "execution_count": 26,
   "metadata": {},
   "outputs": [
    {
     "name": "stdout",
     "output_type": "stream",
     "text": [
      "C:\\Users\\dejanam\\data\\test_pcstim\n",
      "actions\\1849-260219-2\\data\\main.exdir\n"
     ]
    }
   ],
   "source": [
    "action = project.actions['1849-260219-2']\n",
    "data_path = ps.get_data_path(action)"
   ]
  },
  {
   "cell_type": "code",
   "execution_count": 27,
   "metadata": {},
   "outputs": [],
   "source": [
    "sptr = ps.load_spiketrains(data_path, channel_idx=7, remove_label='noise')"
   ]
  },
  {
   "cell_type": "code",
   "execution_count": 32,
   "metadata": {},
   "outputs": [],
   "source": [
    "import matplotlib.pylab as plt\n",
    "import spatialspikefields as tr\n",
    "from scipy.interpolate import interp1d\n",
    "import quantities as pq\n",
    "import numpy as np\n",
    "import seaborn as sns\n",
    "\n",
    "\n",
    "\n",
    "def plot_all_recordings(sptr,  data_path, color='b', lw=2, par=None, s=30, c=[0.7, 0.2, 0.2],\n",
    "                        select_tracking=None, fig=None, figsize=(20, 20),\n",
    "                        binsize = 0.02, smoothing = 0.03):\n",
    "    gs = gridspec.GridSpec(len(sptr), 4)\n",
    "    if len(sptr) == 0:\n",
    "        return \"No cells in this channel group\"\n",
    "\n",
    "    # creating axes for waveforms\n",
    "    gs_wf = gridspec.GridSpecFromSubplotSpec(len(sptr), 2, subplot_spec=gs[0])\n",
    "    #gs_wf.update(left=0.05, right=0.48)\n",
    "    axs_wf = []\n",
    "    axs_wf.append(plt.subplot(gs_wf[0, :], sharex='col'))\n",
    "    for i in range(1, len(sptr)):\n",
    "        axs_wf.append(plt.subplot(gs_wf[1, :]))\n",
    "\n",
    "    for idx in range(len(sptr)):\n",
    "        wf = sptr[i].waveforms[:, i, :]\n",
    "        m = np.mean(wf, axis=0)\n",
    "        s_time = np.arange(m.size, dtype=np.float32) / sptr.sampling_rate\n",
    "        s_time.units = 'ms'\n",
    "        sd = np.std(wf, axis=0)\n",
    "        axs_wf[i].plot(s_time, m, color=color, lw=lw)\n",
    "        axs_wf[i].fill_between(s_time, m - sd, m + sd, alpha=.1, color=color)\n",
    "        #if sptr.left_sweep is not None:\n",
    "         #   sptr.left_sweep.units = 'ms'\n",
    "          #  axs[c].axvspan(sptr.left_sweep, sptr.left_sweep, color='k',\n",
    "           #                ls='--')\n",
    "        axs_wf[i].set_xlabel(s_time.dimensionality)\n",
    "        axs_wf[i].set_xlim([s_time.min(), s_time.max()])\n",
    "        if idx != 0:\n",
    "            plt.setp(axs_wf[idx].get_yticklabels(), visible=False)\n",
    "\n",
    "    # plotting path\n",
    "    if par is None:\n",
    "        par = {'speed_filter': 0.3,  # m/s\n",
    "               'pos_fs': 60,\n",
    "               'f_cut': 1,\n",
    "               'spat_binsize': 0.02,\n",
    "               'spat_smoothing': 0.025,\n",
    "               'grid_stepsize': 0.1,\n",
    "               'box_xlen': 1,\n",
    "               'box_ylen': 1,\n",
    "               'spike_size': 10,\n",
    "               'field_max_wall_extent': 0.1,\n",
    "               'field_min_bins': 12\n",
    "               }\n",
    "\n",
    "    # creating axes for path\n",
    "    x, y, t, speed = load_tracking(data_path, par, select_tracking=1)\n",
    "    gs_p = gridspec.GridSpecFromSubplotSpec(len(sptr), 1, subplot_spec=gs[1])\n",
    "    #gs_p.update(left=0.55, right=0.98)\n",
    "    axs_p = [plt.subplot(gs_p[0, :], sharex='col')]\n",
    "    for i in range(1, len(sptr)):\n",
    "        axs_p.append(plt.subplot(gs_p[i, :]))\n",
    "        axs_p[i].plot(x, y, 'k', alpha=0.3)\n",
    "\n",
    "    x_spikes = np.zeros(4)\n",
    "    y_spikes = np.zeros(4)\n",
    "    for i in range(4):\n",
    "        sptr_t = sptr[i][sptr[i].times.magnitude < np.max(t)]\n",
    "        sptr_t = sptr_t[sptr_t.times.magnitude > np.min(t)]\n",
    "        x_spikes[i] = interp1d(t, x)(sptr_t)\n",
    "        y_spikes[i] = interp1d(t, y)(sptr_t)\n",
    "\n",
    "    for ax, i in zip(axs_p, range(len(sptr))):\n",
    "        ax.scatter(x_spikes[i], y_spikes[i], s=s, c=c)\n",
    "\n",
    "    plt.xticks([])\n",
    "    plt.yticks([])\n",
    "\n",
    "    # plotting firing-rate maps\n",
    "    gs_fr = gridspec.GridSpecFromSubplotSpec(len(sptr), 1, subplot_spec=gs[2])\n",
    "    #gs_fr.update(left=1.05, right=1.48)\n",
    "    axs_fr = [plt.subplot(gs_p[0, :], sharex='col')]\n",
    "    rate_map = tr.spatial_rate_map(x, y, t, sptr[0], binsize=binsize, box_xlen=1, box_ylen=1, smoothing=smoothing)\n",
    "    axs_fr[0].imshow(rate_map, origin=\"lower\")\n",
    "    for i in range(1, len(sptr)):\n",
    "        axs_fr.append(plt.subplot(gs_p[i, :]))\n",
    "        rate_map = tr.spatial_rate_map(x, y, t, sptr[i], binsize=binsize, box_xlen=1, box_ylen=1, smoothing=smoothing)\n",
    "        axs_fr[i].imshow(rate_map, origin=\"lower\")\n",
    "\n",
    "    plt.xticks([])\n",
    "    plt.yticks([])\n",
    "\n",
    "    plt.savefig(\"all-in-one-plot.png\")\n",
    "\n",
    "    return plt.show()"
   ]
  },
  {
   "cell_type": "code",
   "execution_count": 33,
   "metadata": {},
   "outputs": [
    {
     "ename": "TypeError",
     "evalue": "cannot create weak reference to 'str' object",
     "output_type": "error",
     "traceback": [
      "\u001b[1;31m---------------------------------------------------------------------------\u001b[0m",
      "\u001b[1;31mTypeError\u001b[0m                                 Traceback (most recent call last)",
      "\u001b[1;32m<ipython-input-33-e4bd788dc79e>\u001b[0m in \u001b[0;36m<module>\u001b[1;34m\u001b[0m\n\u001b[0;32m      1\u001b[0m plot_all_recordings(sptr,  data_path, color='b', lw=2, par=None, s=30, c=[0.7, 0.2, 0.2],\n\u001b[0;32m      2\u001b[0m                         \u001b[0mselect_tracking\u001b[0m\u001b[1;33m=\u001b[0m\u001b[1;32mNone\u001b[0m\u001b[1;33m,\u001b[0m \u001b[0mfig\u001b[0m\u001b[1;33m=\u001b[0m\u001b[1;32mNone\u001b[0m\u001b[1;33m,\u001b[0m \u001b[0mfigsize\u001b[0m\u001b[1;33m=\u001b[0m\u001b[1;33m(\u001b[0m\u001b[1;36m20\u001b[0m\u001b[1;33m,\u001b[0m \u001b[1;36m20\u001b[0m\u001b[1;33m)\u001b[0m\u001b[1;33m,\u001b[0m\u001b[1;33m\u001b[0m\u001b[0m\n\u001b[1;32m----> 3\u001b[1;33m                         binsize = 0.02, smoothing = 0.03)\n\u001b[0m",
      "\u001b[1;32m<ipython-input-32-8176d7822140>\u001b[0m in \u001b[0;36mplot_all_recordings\u001b[1;34m(sptr, data_path, color, lw, par, s, c, select_tracking, fig, figsize, binsize, smoothing)\u001b[0m\n\u001b[0;32m     19\u001b[0m     \u001b[1;31m#gs_wf.update(left=0.05, right=0.48)\u001b[0m\u001b[1;33m\u001b[0m\u001b[1;33m\u001b[0m\u001b[0m\n\u001b[0;32m     20\u001b[0m     \u001b[0maxs_wf\u001b[0m \u001b[1;33m=\u001b[0m \u001b[1;33m[\u001b[0m\u001b[1;33m]\u001b[0m\u001b[1;33m\u001b[0m\u001b[0m\n\u001b[1;32m---> 21\u001b[1;33m     \u001b[0maxs_wf\u001b[0m\u001b[1;33m.\u001b[0m\u001b[0mappend\u001b[0m\u001b[1;33m(\u001b[0m\u001b[0mplt\u001b[0m\u001b[1;33m.\u001b[0m\u001b[0msubplot\u001b[0m\u001b[1;33m(\u001b[0m\u001b[0mgs_wf\u001b[0m\u001b[1;33m[\u001b[0m\u001b[1;36m0\u001b[0m\u001b[1;33m,\u001b[0m \u001b[1;33m:\u001b[0m\u001b[1;33m]\u001b[0m\u001b[1;33m,\u001b[0m \u001b[0msharex\u001b[0m\u001b[1;33m=\u001b[0m\u001b[1;34m'col'\u001b[0m\u001b[1;33m)\u001b[0m\u001b[1;33m)\u001b[0m\u001b[1;33m\u001b[0m\u001b[0m\n\u001b[0m\u001b[0;32m     22\u001b[0m     \u001b[1;32mfor\u001b[0m \u001b[0mi\u001b[0m \u001b[1;32min\u001b[0m \u001b[0mrange\u001b[0m\u001b[1;33m(\u001b[0m\u001b[1;36m1\u001b[0m\u001b[1;33m,\u001b[0m \u001b[0mlen\u001b[0m\u001b[1;33m(\u001b[0m\u001b[0msptr\u001b[0m\u001b[1;33m)\u001b[0m\u001b[1;33m)\u001b[0m\u001b[1;33m:\u001b[0m\u001b[1;33m\u001b[0m\u001b[0m\n\u001b[0;32m     23\u001b[0m         \u001b[0maxs_wf\u001b[0m\u001b[1;33m.\u001b[0m\u001b[0mappend\u001b[0m\u001b[1;33m(\u001b[0m\u001b[0mplt\u001b[0m\u001b[1;33m.\u001b[0m\u001b[0msubplot\u001b[0m\u001b[1;33m(\u001b[0m\u001b[0mgs_wf\u001b[0m\u001b[1;33m[\u001b[0m\u001b[1;36m1\u001b[0m\u001b[1;33m,\u001b[0m \u001b[1;33m:\u001b[0m\u001b[1;33m]\u001b[0m\u001b[1;33m)\u001b[0m\u001b[1;33m)\u001b[0m\u001b[1;33m\u001b[0m\u001b[0m\n",
      "\u001b[1;32mc:\\users\\dejanam\\appdata\\local\\continuum\\anaconda3\\envs\\pc-stim\\lib\\site-packages\\matplotlib\\pyplot.py\u001b[0m in \u001b[0;36msubplot\u001b[1;34m(*args, **kwargs)\u001b[0m\n\u001b[0;32m   1082\u001b[0m \u001b[1;33m\u001b[0m\u001b[0m\n\u001b[0;32m   1083\u001b[0m     \u001b[0mfig\u001b[0m \u001b[1;33m=\u001b[0m \u001b[0mgcf\u001b[0m\u001b[1;33m(\u001b[0m\u001b[1;33m)\u001b[0m\u001b[1;33m\u001b[0m\u001b[0m\n\u001b[1;32m-> 1084\u001b[1;33m     \u001b[0ma\u001b[0m \u001b[1;33m=\u001b[0m \u001b[0mfig\u001b[0m\u001b[1;33m.\u001b[0m\u001b[0madd_subplot\u001b[0m\u001b[1;33m(\u001b[0m\u001b[1;33m*\u001b[0m\u001b[0margs\u001b[0m\u001b[1;33m,\u001b[0m \u001b[1;33m**\u001b[0m\u001b[0mkwargs\u001b[0m\u001b[1;33m)\u001b[0m\u001b[1;33m\u001b[0m\u001b[0m\n\u001b[0m\u001b[0;32m   1085\u001b[0m     \u001b[0mbbox\u001b[0m \u001b[1;33m=\u001b[0m \u001b[0ma\u001b[0m\u001b[1;33m.\u001b[0m\u001b[0mbbox\u001b[0m\u001b[1;33m\u001b[0m\u001b[0m\n\u001b[0;32m   1086\u001b[0m     \u001b[0mbyebye\u001b[0m \u001b[1;33m=\u001b[0m \u001b[1;33m[\u001b[0m\u001b[1;33m]\u001b[0m\u001b[1;33m\u001b[0m\u001b[0m\n",
      "\u001b[1;32mc:\\users\\dejanam\\appdata\\local\\continuum\\anaconda3\\envs\\pc-stim\\lib\\site-packages\\matplotlib\\figure.py\u001b[0m in \u001b[0;36madd_subplot\u001b[1;34m(self, *args, **kwargs)\u001b[0m\n\u001b[0;32m   1365\u001b[0m                     \u001b[0mself\u001b[0m\u001b[1;33m.\u001b[0m\u001b[0m_axstack\u001b[0m\u001b[1;33m.\u001b[0m\u001b[0mremove\u001b[0m\u001b[1;33m(\u001b[0m\u001b[0max\u001b[0m\u001b[1;33m)\u001b[0m\u001b[1;33m\u001b[0m\u001b[0m\n\u001b[0;32m   1366\u001b[0m \u001b[1;33m\u001b[0m\u001b[0m\n\u001b[1;32m-> 1367\u001b[1;33m             \u001b[0ma\u001b[0m \u001b[1;33m=\u001b[0m \u001b[0msubplot_class_factory\u001b[0m\u001b[1;33m(\u001b[0m\u001b[0mprojection_class\u001b[0m\u001b[1;33m)\u001b[0m\u001b[1;33m(\u001b[0m\u001b[0mself\u001b[0m\u001b[1;33m,\u001b[0m \u001b[1;33m*\u001b[0m\u001b[0margs\u001b[0m\u001b[1;33m,\u001b[0m \u001b[1;33m**\u001b[0m\u001b[0mkwargs\u001b[0m\u001b[1;33m)\u001b[0m\u001b[1;33m\u001b[0m\u001b[0m\n\u001b[0m\u001b[0;32m   1368\u001b[0m         \u001b[0mself\u001b[0m\u001b[1;33m.\u001b[0m\u001b[0m_axstack\u001b[0m\u001b[1;33m.\u001b[0m\u001b[0madd\u001b[0m\u001b[1;33m(\u001b[0m\u001b[0mkey\u001b[0m\u001b[1;33m,\u001b[0m \u001b[0ma\u001b[0m\u001b[1;33m)\u001b[0m\u001b[1;33m\u001b[0m\u001b[0m\n\u001b[0;32m   1369\u001b[0m         \u001b[0mself\u001b[0m\u001b[1;33m.\u001b[0m\u001b[0msca\u001b[0m\u001b[1;33m(\u001b[0m\u001b[0ma\u001b[0m\u001b[1;33m)\u001b[0m\u001b[1;33m\u001b[0m\u001b[0m\n",
      "\u001b[1;32mc:\\users\\dejanam\\appdata\\local\\continuum\\anaconda3\\envs\\pc-stim\\lib\\site-packages\\matplotlib\\axes\\_subplots.py\u001b[0m in \u001b[0;36m__init__\u001b[1;34m(self, fig, *args, **kwargs)\u001b[0m\n\u001b[0;32m     68\u001b[0m \u001b[1;33m\u001b[0m\u001b[0m\n\u001b[0;32m     69\u001b[0m         \u001b[1;31m# _axes_class is set in the subplot_class_factory\u001b[0m\u001b[1;33m\u001b[0m\u001b[1;33m\u001b[0m\u001b[0m\n\u001b[1;32m---> 70\u001b[1;33m         \u001b[0mself\u001b[0m\u001b[1;33m.\u001b[0m\u001b[0m_axes_class\u001b[0m\u001b[1;33m.\u001b[0m\u001b[0m__init__\u001b[0m\u001b[1;33m(\u001b[0m\u001b[0mself\u001b[0m\u001b[1;33m,\u001b[0m \u001b[0mfig\u001b[0m\u001b[1;33m,\u001b[0m \u001b[0mself\u001b[0m\u001b[1;33m.\u001b[0m\u001b[0mfigbox\u001b[0m\u001b[1;33m,\u001b[0m \u001b[1;33m**\u001b[0m\u001b[0mkwargs\u001b[0m\u001b[1;33m)\u001b[0m\u001b[1;33m\u001b[0m\u001b[0m\n\u001b[0m\u001b[0;32m     71\u001b[0m         \u001b[1;31m# add a layout box to this, for both the full axis, and the poss\u001b[0m\u001b[1;33m\u001b[0m\u001b[1;33m\u001b[0m\u001b[0m\n\u001b[0;32m     72\u001b[0m         \u001b[1;31m# of the axis.  We need both because the axes may become smaller\u001b[0m\u001b[1;33m\u001b[0m\u001b[1;33m\u001b[0m\u001b[0m\n",
      "\u001b[1;32mc:\\users\\dejanam\\appdata\\local\\continuum\\anaconda3\\envs\\pc-stim\\lib\\site-packages\\matplotlib\\axes\\_base.py\u001b[0m in \u001b[0;36m__init__\u001b[1;34m(self, fig, rect, facecolor, frameon, sharex, sharey, label, xscale, yscale, **kwargs)\u001b[0m\n\u001b[0;32m    469\u001b[0m         \u001b[0mself\u001b[0m\u001b[1;33m.\u001b[0m\u001b[0m_sharey\u001b[0m \u001b[1;33m=\u001b[0m \u001b[0msharey\u001b[0m\u001b[1;33m\u001b[0m\u001b[0m\n\u001b[0;32m    470\u001b[0m         \u001b[1;32mif\u001b[0m \u001b[0msharex\u001b[0m \u001b[1;32mis\u001b[0m \u001b[1;32mnot\u001b[0m \u001b[1;32mNone\u001b[0m\u001b[1;33m:\u001b[0m\u001b[1;33m\u001b[0m\u001b[0m\n\u001b[1;32m--> 471\u001b[1;33m             \u001b[0mself\u001b[0m\u001b[1;33m.\u001b[0m\u001b[0m_shared_x_axes\u001b[0m\u001b[1;33m.\u001b[0m\u001b[0mjoin\u001b[0m\u001b[1;33m(\u001b[0m\u001b[0mself\u001b[0m\u001b[1;33m,\u001b[0m \u001b[0msharex\u001b[0m\u001b[1;33m)\u001b[0m\u001b[1;33m\u001b[0m\u001b[0m\n\u001b[0m\u001b[0;32m    472\u001b[0m         \u001b[1;32mif\u001b[0m \u001b[0msharey\u001b[0m \u001b[1;32mis\u001b[0m \u001b[1;32mnot\u001b[0m \u001b[1;32mNone\u001b[0m\u001b[1;33m:\u001b[0m\u001b[1;33m\u001b[0m\u001b[0m\n\u001b[0;32m    473\u001b[0m             \u001b[0mself\u001b[0m\u001b[1;33m.\u001b[0m\u001b[0m_shared_y_axes\u001b[0m\u001b[1;33m.\u001b[0m\u001b[0mjoin\u001b[0m\u001b[1;33m(\u001b[0m\u001b[0mself\u001b[0m\u001b[1;33m,\u001b[0m \u001b[0msharey\u001b[0m\u001b[1;33m)\u001b[0m\u001b[1;33m\u001b[0m\u001b[0m\n",
      "\u001b[1;32mc:\\users\\dejanam\\appdata\\local\\continuum\\anaconda3\\envs\\pc-stim\\lib\\site-packages\\matplotlib\\cbook\\__init__.py\u001b[0m in \u001b[0;36mjoin\u001b[1;34m(self, a, *args)\u001b[0m\n\u001b[0;32m    923\u001b[0m \u001b[1;33m\u001b[0m\u001b[0m\n\u001b[0;32m    924\u001b[0m         \u001b[1;32mfor\u001b[0m \u001b[0marg\u001b[0m \u001b[1;32min\u001b[0m \u001b[0margs\u001b[0m\u001b[1;33m:\u001b[0m\u001b[1;33m\u001b[0m\u001b[0m\n\u001b[1;32m--> 925\u001b[1;33m             \u001b[0mset_b\u001b[0m \u001b[1;33m=\u001b[0m \u001b[0mmapping\u001b[0m\u001b[1;33m.\u001b[0m\u001b[0mget\u001b[0m\u001b[1;33m(\u001b[0m\u001b[0mweakref\u001b[0m\u001b[1;33m.\u001b[0m\u001b[0mref\u001b[0m\u001b[1;33m(\u001b[0m\u001b[0marg\u001b[0m\u001b[1;33m)\u001b[0m\u001b[1;33m,\u001b[0m \u001b[1;33m[\u001b[0m\u001b[0mweakref\u001b[0m\u001b[1;33m.\u001b[0m\u001b[0mref\u001b[0m\u001b[1;33m(\u001b[0m\u001b[0marg\u001b[0m\u001b[1;33m)\u001b[0m\u001b[1;33m]\u001b[0m\u001b[1;33m)\u001b[0m\u001b[1;33m\u001b[0m\u001b[0m\n\u001b[0m\u001b[0;32m    926\u001b[0m             \u001b[1;32mif\u001b[0m \u001b[0mset_b\u001b[0m \u001b[1;32mis\u001b[0m \u001b[1;32mnot\u001b[0m \u001b[0mset_a\u001b[0m\u001b[1;33m:\u001b[0m\u001b[1;33m\u001b[0m\u001b[0m\n\u001b[0;32m    927\u001b[0m                 \u001b[1;32mif\u001b[0m \u001b[0mlen\u001b[0m\u001b[1;33m(\u001b[0m\u001b[0mset_b\u001b[0m\u001b[1;33m)\u001b[0m \u001b[1;33m>\u001b[0m \u001b[0mlen\u001b[0m\u001b[1;33m(\u001b[0m\u001b[0mset_a\u001b[0m\u001b[1;33m)\u001b[0m\u001b[1;33m:\u001b[0m\u001b[1;33m\u001b[0m\u001b[0m\n",
      "\u001b[1;31mTypeError\u001b[0m: cannot create weak reference to 'str' object"
     ]
    },
    {
     "data": {
      "text/plain": [
       "<Figure size 432x288 with 0 Axes>"
      ]
     },
     "metadata": {},
     "output_type": "display_data"
    }
   ],
   "source": [
    "plot_all_recordings(sptr,  data_path, color='b', lw=2, par=None, s=30, c=[0.7, 0.2, 0.2],\n",
    "                        select_tracking=None, fig=None, figsize=(20, 20),\n",
    "                        binsize = 0.02, smoothing = 0.03)"
   ]
  },
  {
   "cell_type": "code",
   "execution_count": null,
   "metadata": {},
   "outputs": [],
   "source": []
  },
  {
   "cell_type": "code",
   "execution_count": null,
   "metadata": {},
   "outputs": [],
   "source": []
  },
  {
   "cell_type": "code",
   "execution_count": null,
   "metadata": {},
   "outputs": [],
   "source": []
  }
 ],
 "metadata": {
  "kernelspec": {
   "display_name": "Python 3",
   "language": "python",
   "name": "python3"
  },
  "language_info": {
   "codemirror_mode": {
    "name": "ipython",
    "version": 3
   },
   "file_extension": ".py",
   "mimetype": "text/x-python",
   "name": "python",
   "nbconvert_exporter": "python",
   "pygments_lexer": "ipython3",
   "version": "3.5.6"
  }
 },
 "nbformat": 4,
 "nbformat_minor": 2
}
