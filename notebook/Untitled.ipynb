{
 "cells": [
  {
   "cell_type": "code",
   "execution_count": 1,
   "metadata": {},
   "outputs": [],
   "source": [
    "%load_ext autoreload\n",
    "%autoreload 2"
   ]
  },
  {
   "cell_type": "code",
   "execution_count": 2,
   "metadata": {},
   "outputs": [],
   "source": [
    "import exdir\n",
    "import exdir.plugins.quantities\n",
    "import exdir.plugins.git_lfs\n",
    "import seaborn as sns\n",
    "import os\n",
    "import expipe\n",
    "import pathlib\n",
    "import numpy as np\n",
    "import place_stimulation as ps\n",
    "import neo\n",
    "import quantities as pq\n",
    "import matplotlib.pylab as plt"
   ]
  },
  {
   "cell_type": "code",
   "execution_count": 3,
   "metadata": {},
   "outputs": [
    {
     "data": {
      "application/vnd.jupyter.widget-view+json": {
       "model_id": "26a992665f5f4dfd86bd88ad506d1627",
       "version_major": 2,
       "version_minor": 0
      },
      "text/plain": [
       "HBox(children=(VBox(children=(Text(value='', placeholder='Search'), Select(layout=Layout(height='200px'), opti…"
      ]
     },
     "metadata": {},
     "output_type": "display_data"
    }
   ],
   "source": [
    "project_path = r'C:\\Users\\dejanam\\data\\test_pcstim'\n",
    "project = expipe.get_project(project_path)\n",
    "actions = project.actions\n",
    "actions"
   ]
  },
  {
   "cell_type": "code",
   "execution_count": 4,
   "metadata": {},
   "outputs": [
    {
     "name": "stdout",
     "output_type": "stream",
     "text": [
      "C:\\Users\\dejanam\\data\\test_pcstim\n",
      "actions\\1849-260219-2\\data\\main.exdir\n"
     ]
    }
   ],
   "source": [
    "action = project.actions['1849-260219-2']\n",
    "data_path = ps.get_data_path(action)"
   ]
  },
  {
   "cell_type": "code",
   "execution_count": null,
   "metadata": {},
   "outputs": [
    {
     "name": "stdout",
     "output_type": "stream",
     "text": [
      "(14463, 4, 90)\n"
     ]
    }
   ],
   "source": [
    "sptr = ps.load_spiketrains(data_path, channel_idx=6, remove_label='noise')\n",
    "st = sptr[0]\n",
    "print(st.waveforms.shape)"
   ]
  },
  {
   "cell_type": "code",
   "execution_count": null,
   "metadata": {},
   "outputs": [],
   "source": [
    "import matplotlib.pylab as plt\n",
    "import spatialspikefields as tr\n",
    "from scipy.interpolate import interp1d\n",
    "import quantities as pq\n",
    "import numpy as np\n",
    "import seaborn as sns\n",
    "import matplotlib.gridspec as gridspec\n",
    "\n",
    "\n",
    "def plot_all_recordings(sptr,  data_path, color='b', lw=2, par=None, s=30, c=[0.7, 0.2, 0.2],\n",
    "                        select_tracking=None, fig=None, figsize=(20, 20),\n",
    "                        binsize = 0.02, smoothing = 0.03):\n",
    "    fig = plt.figure(constrained_layout=True, figsize=figsize)\n",
    "    sns.set(color_codes=True, style=\"darkgrid\")\n",
    "    gs = gridspec.GridSpec(1, 3, figure=fig)\n",
    "\n",
    "    # creating axes for waveforms\n",
    "    gs_wf = gridspec.GridSpecFromSubplotSpec(4, 1, subplot_spec=gs[0])\n",
    "    #gs_wf.update(left=0.05, right=0.48)\n",
    "    axs_wf = []\n",
    "    for i in range(4):\n",
    "        ax_wf = fig.add_subplot(gs_wf[i, :])\n",
    "        axs_wf.append(ax_wf)\n",
    "\n",
    "    for i in range(4):\n",
    "        wf = sptr[0].waveforms[:, i, :]\n",
    "        m = np.mean(wf, axis=0)\n",
    "        s_time = np.arange(m.size, dtype=np.float32) / sptr[0].sampling_rate\n",
    "        s_time.units = 'ms'\n",
    "        sd = np.std(wf, axis=0)\n",
    "        axs_wf[i].plot(s_time, m, color=color, lw=lw)\n",
    "        axs_wf[i].fill_between(s_time, m - sd, m + sd, alpha=.1, color=color)\n",
    "        #if sptr.left_sweep is not None:\n",
    "         #   sptr.left_sweep.units = 'ms'\n",
    "          #  axs[c].axvspan(sptr.left_sweep, sptr.left_sweep, color='k',\n",
    "           #                ls='--')\n",
    "        axs_wf[i].set_xlabel(s_time.dimensionality)\n",
    "        axs_wf[i].set_xlim([s_time.min(), s_time.max()])\n",
    "        plt.setp(axs_wf[i].get_yticklabels(), visible=False)\n",
    "        if i < 3:\n",
    "            plt.setp(axs_wf[i].get_xticklabels(), visible=False)\n",
    "            \n",
    "    # plotting path\n",
    "    if par is None:\n",
    "        par = {'speed_filter': 0.3,  # m/s\n",
    "               'pos_fs': 60,\n",
    "               'f_cut': 1,\n",
    "               'spat_binsize': 0.02,\n",
    "               'spat_smoothing': 0.025,\n",
    "               'grid_stepsize': 0.1,\n",
    "               'box_xlen': 1,\n",
    "               'box_ylen': 1,\n",
    "               'spike_size': 10,\n",
    "               'field_max_wall_extent': 0.1,\n",
    "               'field_min_bins': 12\n",
    "               }\n",
    "\n",
    "    # creating axes for path\n",
    "    x, y, t, speed = ps.load_tracking(data_path, par, select_tracking=1)\n",
    "    gs_p = gridspec.GridSpecFromSubplotSpec(4, 1, subplot_spec=gs[1])\n",
    "    axs_p = []\n",
    "    for i in range(4):\n",
    "        axs_p.append(plt.subplot(gs_p[i, :]))\n",
    "        axs_p[i].plot(x, y, 'k', alpha=0.3)\n",
    "\n",
    "    x_spikes = []\n",
    "    y_spikes = []\n",
    "    for i in range(4):\n",
    "        sptr_t = sptr[0][sptr[0].times.magnitude < np.max(t)]\n",
    "        sptr_t = sptr_t[sptr_t.times.magnitude > np.min(t)]\n",
    "        x_spikes.append(interp1d(t, x)(sptr_t))\n",
    "        y_spikes.append(interp1d(t, y)(sptr_t))\n",
    "\n",
    "    for ax, i in zip(axs_p, range(4)):\n",
    "        ax.scatter(x_spikes[i], y_spikes[i], s=s, c=c)\n",
    "\n",
    "    plt.xticks([])\n",
    "    plt.yticks([])\n",
    "\n",
    "    # plotting firing-rate maps\n",
    "    gs_fr = gridspec.GridSpecFromSubplotSpec(4, 1, subplot_spec=gs[2])\n",
    "    axs_fr = []\n",
    "    for i in range(4):\n",
    "        axs_fr.append(plt.subplot(gs_fr[i, :]))\n",
    "        rate_map = tr.spatial_rate_map(x, y, t, sptr[0], binsize=binsize, box_xlen=1, box_ylen=1, smoothing=smoothing)\n",
    "        axs_fr[i].imshow(rate_map, origin=\"lower\")\n",
    "\n",
    "    plt.xticks([])\n",
    "    plt.yticks([])\n",
    "\n",
    "    plt.savefig(\"all-in-one-plot.png\")\n",
    "\n",
    "    return plt.show()"
   ]
  },
  {
   "cell_type": "code",
   "execution_count": null,
   "metadata": {},
   "outputs": [],
   "source": [
    "plot_all_recordings(sptr, data_path, color='b', lw=2, par=None, s=30, c=[0.7, 0.2, 0.2],\n",
    "                        select_tracking=None, fig=None, figsize=(20, 20),\n",
    "                        binsize = 0.02, smoothing = 0.03)"
   ]
  },
  {
   "cell_type": "code",
   "execution_count": null,
   "metadata": {},
   "outputs": [],
   "source": []
  }
 ],
 "metadata": {
  "kernelspec": {
   "display_name": "Python 3",
   "language": "python",
   "name": "python3"
  },
  "language_info": {
   "codemirror_mode": {
    "name": "ipython",
    "version": 3
   },
   "file_extension": ".py",
   "mimetype": "text/x-python",
   "name": "python",
   "nbconvert_exporter": "python",
   "pygments_lexer": "ipython3",
   "version": "3.5.6"
  }
 },
 "nbformat": 4,
 "nbformat_minor": 2
}
