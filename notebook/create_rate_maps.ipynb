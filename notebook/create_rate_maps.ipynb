{
 "cells": [
  {
   "cell_type": "markdown",
   "metadata": {},
   "source": [
    "# Create ratemaps \n",
    "Jump to the bottom of the notebook for the generation of rate maps"
   ]
  },
  {
   "cell_type": "code",
   "execution_count": 1,
   "metadata": {},
   "outputs": [],
   "source": [
    "%load_ext autoreload\n",
    "%autoreload 2"
   ]
  },
  {
   "cell_type": "code",
   "execution_count": 2,
   "metadata": {},
   "outputs": [],
   "source": [
    "import os\n",
    "import expipe\n",
    "import pathlib\n",
    "import numpy as np\n",
    "import spatialspikefields.fields as tr\n",
    "import re\n",
    "import pnnmec\n",
    "import multiprocessing\n",
    "import shutil\n",
    "\n",
    "par = {'speed_filter': 5, # m/s\n",
    "    'pos_fs': 100 ,\n",
    "    'f_cut': 6 ,\n",
    "    'spat_binsize': 0.02 ,\n",
    "    'spat_smoothing': 0.025,\n",
    "    'grid_stepsize': 0.1 ,\n",
    "    'box_xlen': 1 ,\n",
    "    'box_ylen': 1 ,\n",
    "    'spike_size': 10,\n",
    "    'field_max_wall_extent':0.1,\n",
    "    'field_min_bins':12\n",
    "}"
   ]
  },
  {
   "cell_type": "markdown",
   "metadata": {},
   "source": [
    "# Load project in python using expipe"
   ]
  },
  {
   "cell_type": "code",
   "execution_count": 3,
   "metadata": {},
   "outputs": [],
   "source": [
    "project_path = \"testing/\"\n",
    "\n",
    "project = expipe.get_project(project_path)\n",
    "actions = project.actions"
   ]
  },
  {
   "cell_type": "code",
   "execution_count": 4,
   "metadata": {},
   "outputs": [
    {
     "data": {
      "application/vnd.jupyter.widget-view+json": {
       "model_id": "986943ee149b452b9f87c77da59c4d9d",
       "version_major": 2,
       "version_minor": 0
      },
      "text/plain": [
       "HBox(children=(VBox(children=(Text(value='', placeholder='Search'), Select(layout=Layout(height='200px'), opti…"
      ]
     },
     "metadata": {},
     "output_type": "display_data"
    }
   ],
   "source": [
    "tr."
   ]
  },
  {
   "cell_type": "markdown",
   "metadata": {},
   "source": [
    "# Create, plot and save the rate map\n",
    "Set parameters below. Make `rate_map` is the relevant function. The folder specified by `save_folder` must exist."
   ]
  },
  {
   "cell_type": "code",
   "execution_count": 5,
   "metadata": {},
   "outputs": [],
   "source": [
    "binsize = 0.02\n",
    "smoothing = 0.025\n",
    "save_folder = 'figures/' # must exist!\n",
    "figsize = [5, 5]\n",
    "\n",
    "import exdir\n",
    "import exdir.plugins.quantities\n",
    "import exdir.plugins.git_lfs\n",
    "import matplotlib.pyplot as plt\n",
    "from scipy.interpolate import interp1d\n",
    "import spatialspikefields.fields as tr\n",
    "import gc\n",
    "\n",
    "def make_rate_map(x,y,t,sptr, action_id, binsize, smoothing, basename, figsize = [5,5]):\n",
    "    fig = plt.figure(figsize=figsize)\n",
    "    rate_map = tr.spatial_rate_map(x,y,t,sptr, binsize = binsize, \n",
    "                                   box_xlen = 1, box_ylen = 1, smoothing = smoothing)\n",
    "    \n",
    "    ax = plt.imshow(rate_map, origin=\"lower\")\n",
    "    plt.xticks([])\n",
    "    plt.yticks([])\n",
    "    \n",
    "    fig = plt.figure(figsize=figsize)\n",
    "    plt.plot(x, y, 'k', alpha = 0.3)\n",
    "    \n",
    "    x_spike = interp1d(t,x)(sptr)\n",
    "    y_spike = interp1d(t,y)(sptr)\n",
    "    # plt.xticks([])\n",
    "    # plt.yticks([])\n",
    "    #plt.axis('equal')\n",
    "    #plt.axis([0,1,0,1])\n",
    "    \n",
    "    ax = plt.scatter(x_spike, y_spike, s = 30, c = [[0.7, 0.2, 0.2]])\n",
    "    plt.xticks([])\n",
    "    plt.yticks([])\n",
    "    plt.close(fig)\n",
    "    \n",
    "    fig = plt.figure(figsize=figsize)\n",
    "    np.nan_to_num(rate_map, copy = False) # inplace\n",
    "    autocorr = pnnmec.fftcorrelate2d(rate_map, rate_map, mode = 'full', normalize = True)\n",
    "    ax = plt.imshow(autocorr, origin=\"lower\")\n",
    "    plt.xticks([])\n",
    "    plt.yticks([])\n",
    "    plt.close(fig)"
   ]
  },
  {
   "cell_type": "markdown",
   "metadata": {},
   "source": [
    "# Create rate maps for all experiments and store in action"
   ]
  },
  {
   "cell_type": "code",
   "execution_count": 7,
   "metadata": {},
   "outputs": [
    {
     "name": "stdout",
     "output_type": "stream",
     "text": [
      "channel_group_0\n",
      "channel_group_1\n",
      "channel_group_2\n",
      "channel_group_3\n",
      "channel_group_4\n",
      "channel_group_5\n",
      "channel_group_6\n",
      "channel_group_7\n"
     ]
    }
   ],
   "source": [
    "all_units = []\n",
    "action_list = []\n",
    "\n",
    "for action_id in project.actions:\n",
    "    action  = actions[action_id]                                                                                                                                                        \n",
    "\n",
    "    if action.type != 'Recording':\n",
    "        continue # go to next action if not recording\n",
    "\n",
    "    data_path = pathlib.Path(project_path) / \"actions\" / action_id / \"data\" / \"main.exdir\"\n",
    "    root_group = exdir.File(data_path, plugins=[exdir.plugins.quantities,\n",
    "                                                exdir.plugins.git_lfs])\n",
    "    \n",
    "    if not \"processing\" in root_group:\n",
    "        continue\n",
    "    \n",
    "    electrophysiology_group = root_group[\"/processing/electrophysiology/\"]\n",
    "    \n",
    "    for channel_name in electrophysiology_group:\n",
    "        channel = electrophysiology_group[channel_name]\n",
    "        print(channel_name)\n",
    "        \n",
    "        # assume channel name is channel_group_X and find X:\n",
    "        channel_name_pattern = r\"channel_group_(\\d+)\"\n",
    "        channel_id = re.match(channel_name_pattern, channel_name)[1]\n",
    "        \n",
    "        if not \"UnitTimes\" in channel:\n",
    "            continue\n",
    "        \n",
    "        channel_units = channel[\"UnitTimes\"]\n",
    "        \n",
    "        for unit_id in channel_units:\n",
    "            unit = channel_units[unit_id]\n",
    "            unit_path = unit.name\n",
    "            basename = \"figures/{}_{}_{}\".format(action_id, channel_id, unit_id)\n",
    "            \n",
    "            if action_id == \"1751-200317-02\" and channel_id == \"2\" and unit_id == \"0\":\n",
    "                print(\"Skipping\", basename)\n",
    "                continue\n",
    "            all_units.append((action, action_id, channel_id, unit_id, basename))"
   ]
  },
  {
   "cell_type": "code",
   "execution_count": null,
   "metadata": {},
   "outputs": [],
   "source": []
  },
  {
   "cell_type": "code",
   "execution_count": 8,
   "metadata": {},
   "outputs": [],
   "source": [
    "def process(args):\n",
    "    action, action_id, channel_id, unit_id, basename = args\n",
    "    if os.path.exists(basename + \"_ratemap.npy\"):\n",
    "        print(\"Skipping existing\", basename)\n",
    "        return\n",
    "\n",
    "    print(\"Creating\", basename)\n",
    "\n",
    "    data_path = pathlib.Path(project_path) / \"actions\" / action_id / \"data\" / \"main.exdir\"\n",
    "    unit_path = pnnmec.unit_path(channel_id, unit_id)\n",
    "    \n",
    "    x, y, t, speed, sptr = pnnmec.load_data(data_path, unit_path, par)\n",
    "    make_rate_map(x,y,t,sptr,action_id, basename=basename, binsize = binsize, \n",
    "                  smoothing = smoothing, figsize = figsize)"
   ]
  },
  {
   "cell_type": "code",
   "execution_count": 13,
   "metadata": {},
   "outputs": [
    {
     "name": "stdout",
     "output_type": "stream",
     "text": [
      "Creating figures/1806-031218-2_1_3\n",
      "Removed 13.68 % invalid measurements in path\n",
      "Maximum speed 8.57495271620511\n"
     ]
    },
    {
     "data": {
      "image/png": "[encoded data removed]",
      "text/plain": [
       "<Figure size 360x360 with 1 Axes>"
      ]
     },
     "metadata": {},
     "output_type": "display_data"
    }
   ],
   "source": [
    "process(all_units[3])"
   ]
  },
  {
   "cell_type": "code",
   "execution_count": 9,
   "metadata": {},
   "outputs": [
    {
     "name": "stdout",
     "output_type": "stream",
     "text": [
      "Creating figures/1806-031218-2_0_0\n",
      "Removed 13.68 % invalid measurements in path\n",
      "Maximum speed 8.57495271620511\n"
     ]
    },
    {
     "name": "stderr",
     "output_type": "stream",
     "text": [
      "/home/alessiob/anaconda3/envs/expipe/lib/python3.6/site-packages/scipy/signal/_arraytools.py:45: FutureWarning: Using a non-tuple sequence for multidimensional indexing is deprecated; use `arr[tuple(seq)]` instead of `arr[seq]`. In the future this will be interpreted as an array index, `arr[np.array(seq)]`, which will result either in an error or a different result.\n",
      "  b = a[a_slice]\n"
     ]
    },
    {
     "name": "stdout",
     "output_type": "stream",
     "text": [
      "Creating figures/1806-031218-2_0_1\n",
      "Removed 13.68 % invalid measurements in path\n",
      "Maximum speed 8.57495271620511\n"
     ]
    },
    {
     "name": "stderr",
     "output_type": "stream",
     "text": [
      "/home/alessiob/anaconda3/envs/expipe/lib/python3.6/site-packages/scipy/signal/_arraytools.py:45: FutureWarning: Using a non-tuple sequence for multidimensional indexing is deprecated; use `arr[tuple(seq)]` instead of `arr[seq]`. In the future this will be interpreted as an array index, `arr[np.array(seq)]`, which will result either in an error or a different result.\n",
      "  b = a[a_slice]\n"
     ]
    },
    {
     "name": "stdout",
     "output_type": "stream",
     "text": [
      "Creating figures/1806-031218-2_0_2\n",
      "Removed 13.68 % invalid measurements in path\n",
      "Maximum speed 8.57495271620511\n",
      "Creating figures/1806-031218-2_1_3\n",
      "Removed 13.68 % invalid measurements in path\n",
      "Maximum speed 8.57495271620511\n",
      "Creating figures/1806-031218-2_1_4\n",
      "Removed 13.68 % invalid measurements in path\n",
      "Maximum speed 8.57495271620511\n",
      "Creating figures/1806-031218-2_1_5\n",
      "Removed 13.68 % invalid measurements in path\n",
      "Maximum speed 8.57495271620511\n",
      "Creating figures/1806-031218-2_2_6\n",
      "Removed 13.68 % invalid measurements in path\n",
      "Maximum speed 8.57495271620511\n",
      "Creating figures/1806-031218-2_2_7\n",
      "Removed 13.68 % invalid measurements in path\n",
      "Maximum speed 8.57495271620511\n",
      "Creating figures/1806-031218-2_2_8\n",
      "Removed 13.68 % invalid measurements in path\n",
      "Maximum speed 8.57495271620511\n",
      "Creating figures/1806-031218-2_4_10\n",
      "Removed 13.68 % invalid measurements in path\n",
      "Maximum speed 8.57495271620511\n",
      "Creating figures/1806-031218-2_4_11\n",
      "Removed 13.68 % invalid measurements in path\n",
      "Maximum speed 8.57495271620511\n",
      "Creating figures/1806-031218-2_4_12\n",
      "Removed 13.68 % invalid measurements in path\n",
      "Maximum speed 8.57495271620511\n",
      "Creating figures/1806-031218-2_4_13\n",
      "Removed 13.68 % invalid measurements in path\n",
      "Maximum speed 8.57495271620511\n",
      "Removed 13 spikes that fell outside range of valid position data.\n",
      "Creating figures/1806-031218-2_4_14\n",
      "Removed 13.68 % invalid measurements in path\n",
      "Maximum speed 8.57495271620511\n",
      "Creating figures/1806-031218-2_4_9\n",
      "Removed 13.68 % invalid measurements in path\n",
      "Maximum speed 8.57495271620511\n",
      "Creating figures/1806-031218-2_5_15\n",
      "Removed 13.68 % invalid measurements in path\n",
      "Maximum speed 8.57495271620511\n",
      "Creating figures/1806-031218-2_5_16\n",
      "Removed 13.68 % invalid measurements in path\n",
      "Maximum speed 8.57495271620511\n",
      "Creating figures/1806-031218-2_5_17\n",
      "Removed 13.68 % invalid measurements in path\n",
      "Maximum speed 8.57495271620511\n",
      "Removed 2 spikes that fell outside range of valid position data.\n",
      "Creating figures/1806-031218-2_6_18\n",
      "Removed 13.68 % invalid measurements in path\n",
      "Maximum speed 8.57495271620511\n",
      "Creating figures/1806-031218-2_6_19\n",
      "Removed 13.68 % invalid measurements in path\n",
      "Maximum speed 8.57495271620511\n"
     ]
    },
    {
     "name": "stderr",
     "output_type": "stream",
     "text": [
      "/home/alessiob/anaconda3/envs/expipe/lib/python3.6/site-packages/matplotlib/pyplot.py:514: RuntimeWarning: More than 20 figures have been opened. Figures created through the pyplot interface (`matplotlib.pyplot.figure`) are retained until explicitly closed and may consume too much memory. (To control this warning, see the rcParam `figure.max_open_warning`).\n",
      "  max_open_warning, RuntimeWarning)\n"
     ]
    },
    {
     "name": "stdout",
     "output_type": "stream",
     "text": [
      "Creating figures/1806-031218-2_6_20\n",
      "Removed 13.68 % invalid measurements in path\n",
      "Maximum speed 8.57495271620511\n"
     ]
    },
    {
     "data": {
      "image/png": "[encoded data removed]",
      "text/plain": [
       "<Figure size 360x360 with 1 Axes>"
      ]
     },
     "metadata": {
      "needs_background": "light"
     },
     "output_type": "display_data"
    },
    {
     "data": {
      "image/png": "[encoded data removed]",
      "text/plain": [
       "<Figure size 360x360 with 1 Axes>"
      ]
     },
     "metadata": {
      "needs_background": "light"
     },
     "output_type": "display_data"
    },
    {
     "data": {
      "image/png": "[encoded data removed]",
      "text/plain": [
       "<Figure size 360x360 with 1 Axes>"
      ]
     },
     "metadata": {
      "needs_background": "light"
     },
     "output_type": "display_data"
    },
    {
     "data": {
      "image/png": "[encoded data removed]",
      "text/plain": [
       "<Figure size 360x360 with 1 Axes>"
      ]
     },
     "metadata": {
      "needs_background": "light"
     },
     "output_type": "display_data"
    },
    {
     "data": {
      "image/png": "[encoded data removed]",
      "text/plain": [
       "<Figure size 360x360 with 1 Axes>"
      ]
     },
     "metadata": {
      "needs_background": "light"
     },
     "output_type": "display_data"
    },
    {
     "data": {
      "image/png": "[encoded data removed]",
      "text/plain": [
       "<Figure size 360x360 with 1 Axes>"
      ]
     },
     "metadata": {
      "needs_background": "light"
     },
     "output_type": "display_data"
    },
    {
     "data": {
      "image/png": "[encoded data removed]",
      "text/plain": [
       "<Figure size 360x360 with 1 Axes>"
      ]
     },
     "metadata": {
      "needs_background": "light"
     },
     "output_type": "display_data"
    },
    {
     "data": {
      "image/png": "[encoded data removed]",
      "text/plain": [
       "<Figure size 360x360 with 1 Axes>"
      ]
     },
     "metadata": {
      "needs_background": "light"
     },
     "output_type": "display_data"
    },
    {
     "data": {
      "image/png": "[encoded data removed]",
      "text/plain": [
       "<Figure size 360x360 with 1 Axes>"
      ]
     },
     "metadata": {
      "needs_background": "light"
     },
     "output_type": "display_data"
    },
    {
     "data": {
      "image/png": "[encoded data removed]",
      "text/plain": [
       "<Figure size 360x360 with 1 Axes>"
      ]
     },
     "metadata": {
      "needs_background": "light"
     },
     "output_type": "display_data"
    },
    {
     "data": {
      "image/png": "[encoded data removed]",
      "text/plain": [
       "<Figure size 360x360 with 1 Axes>"
      ]
     },
     "metadata": {
      "needs_background": "light"
     },
     "output_type": "display_data"
    },
    {
     "data": {
      "image/png": "[encoded data removed]",
      "text/plain": [
       "<Figure size 360x360 with 1 Axes>"
      ]
     },
     "metadata": {
      "needs_background": "light"
     },
     "output_type": "display_data"
    },
    {
     "data": {
      "image/png": "[encoded data removed]",
      "text/plain": [
       "<Figure size 360x360 with 1 Axes>"
      ]
     },
     "metadata": {
      "needs_background": "light"
     },
     "output_type": "display_data"
    },
    {
     "data": {
      "image/png": "[encoded data removed]",
      "text/plain": [
       "<Figure size 360x360 with 1 Axes>"
      ]
     },
     "metadata": {
      "needs_background": "light"
     },
     "output_type": "display_data"
    },
    {
     "data": {
      "image/png": "[encoded data removed]",
      "text/plain": [
       "<Figure size 360x360 with 1 Axes>"
      ]
     },
     "metadata": {
      "needs_background": "light"
     },
     "output_type": "display_data"
    },
    {
     "data": {
      "image/png": "[encoded data removed]",
      "text/plain": [
       "<Figure size 360x360 with 1 Axes>"
      ]
     },
     "metadata": {
      "needs_background": "light"
     },
     "output_type": "display_data"
    },
    {
     "data": {
      "image/png": "[encoded data removed]",
      "text/plain": [
       "<Figure size 360x360 with 1 Axes>"
      ]
     },
     "metadata": {
      "needs_background": "light"
     },
     "output_type": "display_data"
    },
    {
     "data": {
      "image/png": "[encoded data removed]",
      "text/plain": [
       "<Figure size 360x360 with 1 Axes>"
      ]
     },
     "metadata": {
      "needs_background": "light"
     },
     "output_type": "display_data"
    },
    {
     "data": {
      "image/png": "[encoded data removed]",
      "text/plain": [
       "<Figure size 360x360 with 1 Axes>"
      ]
     },
     "metadata": {
      "needs_background": "light"
     },
     "output_type": "display_data"
    },
    {
     "data": {
      "image/png": "[encoded data removed]",
      "text/plain": [
       "<Figure size 360x360 with 1 Axes>"
      ]
     },
     "metadata": {
      "needs_background": "light"
     },
     "output_type": "display_data"
    },
    {
     "data": {
      "image/png": "[encoded data removed]",
      "text/plain": [
       "<Figure size 360x360 with 1 Axes>"
      ]
     },
     "metadata": {
      "needs_background": "light"
     },
     "output_type": "display_data"
    }
   ],
   "source": [
    "\n",
    "for args in all_units[0]:\n",
    "    process(args)\n",
    "    \n",
    "    # Make sure to clean up memory\n",
    "    gc.collect()"
   ]
  },
  {
   "cell_type": "code",
   "execution_count": null,
   "metadata": {},
   "outputs": [],
   "source": [
    "crm_action = project.require_action(\"create_rate_maps\")\n",
    "crm_action.data[\"figures\"] = \"figures\"\n",
    "output_path = pathlib.Path(project_path) / \"actions\" / \"create_rate_maps\" / \"data\"\n",
    "output_path.mkdir(exist_ok=True, parents=True)\n",
    "shutil.copytree(\"figures\", output_path / \"figures\")"
   ]
  },
  {
   "cell_type": "code",
   "execution_count": null,
   "metadata": {},
   "outputs": [],
   "source": []
  }
 ],
 "metadata": {
  "kernelspec": {
   "display_name": "Python 3",
   "language": "python",
   "name": "python3"
  },
  "language_info": {
   "codemirror_mode": {
    "name": "ipython",
    "version": 3
   },
   "file_extension": ".py",
   "mimetype": "text/x-python",
   "name": "python",
   "nbconvert_exporter": "python",
   "pygments_lexer": "ipython3",
   "version": "3.6.8"
  }
 },
 "nbformat": 4,
 "nbformat_minor": 2
}
