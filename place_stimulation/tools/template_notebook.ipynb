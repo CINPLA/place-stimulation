{
 "cells": [
  {
   "cell_type": "code",
   "execution_count": null,
   "metadata": {
    "collapsed": true
   },
   "outputs": [],
   "source": [
    "exdir_path = r\"/home/mikkel/expipe_temp_storage/mikkel_septum_entorhinal/1775-160817-01/main.exdir\"\n",
    "channel_group = 0"
   ]
  },
  {
   "cell_type": "code",
   "execution_count": null,
   "metadata": {},
   "outputs": [],
   "source": [
    "import expipe\n",
    "import os\n",
    "from expipe_plugin_cinpla.config import load_parameters\n",
    "import quantities as pq\n",
    "import matplotlib.pyplot as plt\n",
    "import seaborn as sns\n",
    "import pandas as pd\n",
    "import numpy as np\n",
    "import neo\n",
    "import exdir\n",
    "import exana.tracking as tr\n",
    "\n",
    "%matplotlib inline\n",
    "rc = {'figure.figsize': (16, 9),\n",
    "        'xtick.labelsize': 20,\n",
    "        'ytick.labelsize': 20,\n",
    "        'axes.labelsize': 30, \n",
    "        'axes.titlesize': 25,\n",
    "        'font.size': 25,\n",
    "        'legend.frameon': False,\n",
    "        'legend.fontsize': 15,\n",
    "        'image.cmap': 'jet'}\n",
    "sns.set(rc=rc)\n",
    "sns.set_color_codes()\n",
    "plt.rcParams.update(rc)\n",
    "\n",
    "PAR = load_parameters()\n",
    "par = PAR.ANALYSIS_PARAMS"
   ]
  },
  {
   "cell_type": "code",
   "execution_count": null,
   "metadata": {},
   "outputs": [],
   "source": [
    "# Load tracking\n",
    "x, y, t, ang, ang_t = tr.get_processed_tracking(exdir_path, par)"
   ]
  },
  {
   "cell_type": "code",
   "execution_count": null,
   "metadata": {
    "collapsed": true
   },
   "outputs": [],
   "source": [
    "# Load electrophysiology\n",
    "io = neo.ExdirIO(exdir_path)\n",
    "blk = io.read_block()\n",
    "seg = blk.segments[0]\n",
    "chxs = blk.channel_indexes"
   ]
  },
  {
   "cell_type": "code",
   "execution_count": null,
   "metadata": {
    "collapsed": true
   },
   "outputs": [],
   "source": [
    "chx = chxs[channel_group]"
   ]
  },
  {
   "cell_type": "markdown",
   "metadata": {},
   "source": [
    "# Spikes"
   ]
  },
  {
   "cell_type": "code",
   "execution_count": null,
   "metadata": {
    "collapsed": true
   },
   "outputs": [],
   "source": [
    "from expipe_plugin_cinpla import make_spatiality_overview\n",
    "from exana.waveform import (plot_amp_clusters, plot_waveforms)\n",
    "from exana.statistics import correlogram, plot_isi_hist\n",
    "from exana.stimulus import plot_psth, epoch_overview\n",
    "\n",
    "if len(blk.segments[0].epochs)==1:\n",
    "    epo = blk.segments[0].epochs[0]\n",
    "    epo_over = epoch_overview(epo, np.median(np.diff(epo.times)))\n",
    "    stim_micro = True\n",
    "    stim_macro = True\n",
    "else:\n",
    "    epo = None\n",
    "    epo_over = None\n",
    "    stim_micro = False\n",
    "    stim_macro = False\n",
    "    \n",
    "color = 'b'\n",
    "waveform = True\n",
    "corr = True\n",
    "spatial = True"
   ]
  },
  {
   "cell_type": "code",
   "execution_count": null,
   "metadata": {
    "collapsed": true,
    "scrolled": true
   },
   "outputs": [],
   "source": [
    "for unit in chx.units:\n",
    "    if unit.annotations['cluster_group'].lower() == 'noise':\n",
    "        continue\n",
    "    sptr = unit.spiketrains[0]\n",
    "    if spatial:\n",
    "        make_spatiality_overview(x, y, t, ang, ang_t, sptr, acorr=None,\n",
    "                                 G=None, fig=None, mask_unvisited=False,\n",
    "                                 vmin=0, ang_binsize=2, projection='polar',\n",
    "                                 title=unit.name, \n",
    "                                 rate_map=None, params=par)\n",
    "    if waveform:\n",
    "        fig = plt.figure()\n",
    "        plot_waveforms(sptr=sptr, color=color, fig=fig)\n",
    "    if corr:\n",
    "        fig, ax = plt.subplots()\n",
    "        bin_width = par['corr_bin_width'].rescale('s').magnitude\n",
    "        limit = par['corr_limit'].rescale('s').magnitude\n",
    "        count, bins = correlogram(t1=sptr.times.magnitude, t2=None,\n",
    "                                  bin_width=bin_width, limit=limit,\n",
    "                                  auto=True)\n",
    "        ax.bar(bins[:-1] + bin_width / 2., count, width=bin_width,\n",
    "                color=color)\n",
    "        ax.set_xlim([-limit, limit])\n",
    "    if stim_micro:\n",
    "        fig = plt.figure()\n",
    "        t_start = -np.round(epo.durations[0].rescale('ms')) * 3  # FIXME is milliseconds always good?\n",
    "        t_stop = np.round(epo.durations[0].rescale('ms')) * 3\n",
    "        binsize = (abs(t_start) + abs(t_stop)) / 100.\n",
    "        plot_psth(sptr=sptr, epo=epo, t_start=t_start,\n",
    "                  t_stop=t_stop, output='counts', binsize=binsize,\n",
    "                  fig=fig)\n",
    "    if stim_macro:\n",
    "        t_start = -np.round(epo_over.durations[0])\n",
    "        t_stop = np.round(epo_over.durations[0])\n",
    "        binsize = (abs(t_start) + abs(t_stop)) / 100.\n",
    "        fig = plt.figure()\n",
    "\n",
    "        plot_psth(sptr=sptr, epo=epo_over, t_start=t_start,\n",
    "                  t_stop=t_stop, output='counts', binsize=binsize,\n",
    "                  fig=fig, ylim=None)"
   ]
  },
  {
   "cell_type": "markdown",
   "metadata": {},
   "source": [
    "# LFP"
   ]
  },
  {
   "cell_type": "code",
   "execution_count": null,
   "metadata": {
    "collapsed": true
   },
   "outputs": [],
   "source": [
    "from exana.time_frequency import plot_psd, plot_tfr\n",
    "\n",
    "psd = True\n",
    "tfr = True\n",
    "\n",
    "anas = chx.analogsignals"
   ]
  },
  {
   "cell_type": "code",
   "execution_count": null,
   "metadata": {
    "collapsed": true
   },
   "outputs": [],
   "source": [
    "xlim = [0, 100]\n",
    "\n",
    "if psd:\n",
    "    plot_psd(anas, color=color, xlim=xlim, nperseg=2048, legend=True)"
   ]
  },
  {
   "cell_type": "code",
   "execution_count": null,
   "metadata": {
    "collapsed": true
   },
   "outputs": [],
   "source": [
    "# DOWNSAMPLING\n",
    "import scipy.signal as ss\n",
    "import neo\n",
    "\n",
    "ana = anas[-1]\n",
    "if ana.sampling_rate > 250 *pq.Hz:\n",
    "    q = int(ana.sampling_rate / 250 * pq.Hz)\n",
    "    signal = ss.decimate(ana.magnitude.T, q=q, zero_phase=True)\n",
    "    sampling_rate = ana.sampling_rate / q\n",
    "    t_stop = len(signal) / sampling_rate\n",
    "    ana = neo.AnalogSignal(signal.T * ana.units, t_start=0 * pq.s, sampling_rate=sampling_rate)"
   ]
  },
  {
   "cell_type": "code",
   "execution_count": null,
   "metadata": {
    "collapsed": true
   },
   "outputs": [],
   "source": [
    "if tfr:\n",
    "    plot_tfr(ana, epo=epo_over, f0=3, flim=[0, 100], tlim=[80, 200] * pq.s, plot_ana=True)"
   ]
  },
  {
   "cell_type": "code",
   "execution_count": null,
   "metadata": {
    "collapsed": true
   },
   "outputs": [],
   "source": []
  }
 ],
 "metadata": {
  "kernelspec": {
   "display_name": "Python 3",
   "language": "python",
   "name": "python3"
  },
  "language_info": {
   "codemirror_mode": {
    "name": "ipython",
    "version": 3
   },
   "file_extension": ".py",
   "mimetype": "text/x-python",
   "name": "python",
   "nbconvert_exporter": "python",
   "pygments_lexer": "ipython3",
   "version": "3.5.3"
  }
 },
 "nbformat": 4,
 "nbformat_minor": 2
}
